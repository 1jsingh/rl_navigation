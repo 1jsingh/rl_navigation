{
 "cells": [
  {
   "cell_type": "code",
   "execution_count": 1,
   "metadata": {},
   "outputs": [],
   "source": [
    "from mlagents.envs import UnityEnvironment\n",
    "import numpy as np\n",
    "from collections import deque\n",
    "\n",
    "import random\n",
    "import torch\n",
    "import torch.nn as nn\n",
    "import torch.nn.functional as F\n",
    "import torch.optim as optim\n",
    "\n",
    "from agents.dqn_agent import Agent\n",
    "\n",
    "# matplotlib\n",
    "import matplotlib.pyplot as plt\n",
    "%matplotlib inline\n",
    "%config InlineBackend.figure_format='retina'\n",
    "\n",
    "# seaborn\n",
    "import seaborn as sns\n",
    "sns.set()\n",
    "\n",
    "# Some more magic so that the notebook will reload external python modules;\n",
    "# see http://stackoverflow.com/questions/1907993/autoreload-of-modules-in-ipython\n",
    "%load_ext autoreload\n",
    "%autoreload 2"
   ]
  },
  {
   "cell_type": "markdown",
   "metadata": {},
   "source": [
    "### 1. Load the Unity Environment\n",
    "\n",
    "**_Before running the code cell below_**, change the `file_name` parameter to match the location of the Reacher Unity environment.\n",
    "\n",
    "For instance, if you are using a Mac, then you downloaded `Banana_Collector.app`.  If this file is in the same folder as the notebook, then the line below should appear as follows:\n",
    "```\n",
    "env = UnityEnvironment(file_name=\"Banana_Collector.app\")\n",
    "```"
   ]
  },
  {
   "cell_type": "code",
   "execution_count": 2,
   "metadata": {},
   "outputs": [
    {
     "name": "stderr",
     "output_type": "stream",
     "text": [
      "INFO:mlagents.envs:\n",
      "'Academy' started successfully!\n",
      "Unity Academy name: Academy\n",
      "        Number of Brains: 1\n",
      "        Number of Training Brains : 1\n",
      "        Reset Parameters :\n",
      "\t\t\n",
      "Unity brain name: BananaLearning\n",
      "        Number of Visual Observations (per agent): 0\n",
      "        Vector Observation space size (per agent): 53\n",
      "        Number of stacked Vector Observation: 1\n",
      "        Vector Action space type: discrete\n",
      "        Vector Action space size (per agent): [3, 3, 3, 2]\n",
      "        Vector Action descriptions: , , , \n"
     ]
    }
   ],
   "source": [
    "# loading the unity environment and setting the brain game\n",
    "#env = UnityEnvironment(file_name=\"unity_envs/Banana_Collector.app\")\n",
    "\n",
    "## headless unity environment\n",
    "env = UnityEnvironment(file_name=\"unity_envs/Banana_Collector_Linux_server/Banana_Collector_Linux.x86_64\",worker_id=0)"
   ]
  },
  {
   "cell_type": "markdown",
   "metadata": {},
   "source": [
    "Environments contain **_brains_** which are responsible for deciding the actions of their associated agents. Here we check for the first brain available, and set it as the default brain we will be controlling from Python."
   ]
  },
  {
   "cell_type": "code",
   "execution_count": 3,
   "metadata": {},
   "outputs": [],
   "source": [
    "# select brain name and brain\n",
    "brain_name = env.brain_names[0]\n",
    "brain = env.brains[brain_name]"
   ]
  },
  {
   "cell_type": "markdown",
   "metadata": {},
   "source": [
    "### 2. Examine the State and Action Spaces\n",
    "\n",
    "* Set-up: A multi-agent environment where agents compete to collect bananas.\n",
    "* Goal: The agents must learn to move to as many yellow bananas as possible\n",
    "  while avoiding blue bananas.\n",
    "* Agents: The environment contains 5 agents linked to a single Brain.\n",
    "* Agent Reward Function (independent):\n",
    "  * +1 for interaction with yellow banana\n",
    "  * -1 for interaction with blue banana.\n",
    "* Brains: One Brain with the following observation/action space.\n",
    "  * Vector Observation space: 53 corresponding to velocity of agent (2), whether\n",
    "    agent is frozen and/or shot its laser (2), plus ray-based perception of\n",
    "    objects around agent's forward direction (49; 7 raycast angles with 7\n",
    "    measurements for each).\n",
    "  * Vector Action space: (Discrete) 4 Branches:\n",
    "    * Forward Motion (3 possible actions: Forward, Backwards, No Action)\n",
    "    * Side Motion (3 possible actions: Left, Right, No Action)\n",
    "    * Rotation (3 possible actions: Rotate Left, Rotate Right, No Action)\n",
    "    * Laser (2 possible actions: Laser, No Action)\n",
    "  * Visual Observations (Optional): First-person camera per-agent. Use\n",
    "    `VisualBanana` scene.\n",
    "* Reset Parameters: None.\n",
    "* Benchmark Mean Reward: 10\n",
    "\n",
    "Lets print some information about the environment."
   ]
  },
  {
   "cell_type": "code",
   "execution_count": 4,
   "metadata": {},
   "outputs": [
    {
     "name": "stdout",
     "output_type": "stream",
     "text": [
      "Number of agents: 20\n",
      "Size of each action: [3 3 3 2]\n",
      "There are 20 agents. Each observes a state with length: 53\n",
      "The state for the first agent looks like: [0.         0.         0.         1.         0.         0.\n",
      " 0.02336383 0.         0.         0.         1.         0.\n",
      " 0.         0.68528175 0.         0.         1.         0.\n",
      " 0.         0.         0.56952494 0.         0.         0.\n",
      " 1.         0.         0.         0.02488187 0.         0.\n",
      " 1.         0.         0.         0.         0.53722268 0.\n",
      " 0.         0.         1.         0.         0.         0.03328048\n",
      " 1.         0.         0.         0.         0.         0.\n",
      " 0.14436573 0.         0.         0.         0.        ]\n"
     ]
    }
   ],
   "source": [
    "# reset the environment\n",
    "env_info = env.reset(train_mode=True)[brain_name]\n",
    "\n",
    "# number of agents\n",
    "num_agents = len(env_info.agents)\n",
    "print('Number of agents:', num_agents)\n",
    "\n",
    "# size of each action\n",
    "action_size = np.array(brain.vector_action_space_size)\n",
    "print('Size of each action:', action_size)\n",
    "\n",
    "# examine the state space \n",
    "states = env_info.vector_observations\n",
    "state_size = states.shape[1]\n",
    "print('There are {} agents. Each observes a state with length: {}'.format(states.shape[0], state_size))\n",
    "print('The state for the first agent looks like:', states[0])"
   ]
  },
  {
   "cell_type": "markdown",
   "metadata": {},
   "source": [
    "### 3. Take Random Actions in the Environment"
   ]
  },
  {
   "cell_type": "code",
   "execution_count": 5,
   "metadata": {},
   "outputs": [
    {
     "name": "stdout",
     "output_type": "stream",
     "text": [
      "Total score (averaged over agents) this episode: -0.15\n"
     ]
    }
   ],
   "source": [
    "env_info = env.reset(train_mode=True)[brain_name]     # reset the environment    \n",
    "states = env_info.vector_observations                 # get the current state (for each agent)\n",
    "scores = np.zeros(num_agents)                         # initialize the score (for each agent)\n",
    "step=0\n",
    "\n",
    "while True:\n",
    "    actions = np.zeros(len(action_size)*num_agents)\n",
    "    for i in range(num_agents):\n",
    "        rand_action = np.floor(np.random.rand(len(action_size))*action_size)\n",
    "        actions[i*len(action_size):(i+1)*len(action_size)] = rand_action\n",
    "    env_info = env.step(actions)[brain_name]           # send all actions to tne environment\n",
    "    next_states = env_info.vector_observations         # get next state (for each agent)\n",
    "    rewards = env_info.rewards                         # get reward (for each agent)\n",
    "    dones = env_info.local_done                        # see if episode finished\n",
    "    scores += env_info.rewards                         # update the score (for each agent)\n",
    "    states = next_states                               # roll over states to next time step\n",
    "    step+=1\n",
    "    if np.any(dones):                                  # exit loop if episode finished\n",
    "        break\n",
    "print('Total score (averaged over agents) this episode: {}'.format(np.mean(scores)))"
   ]
  },
  {
   "cell_type": "markdown",
   "metadata": {},
   "source": [
    "### 4. Training the agent!\n",
    "\n",
    "Now it's turn to train an agent to solve the environment!  When training the environment, we have to set `train_mode=True`, so that the line for resetting the environment looks like the following:\n",
    "```python\n",
    "env_info = env.reset(train_mode=True)[brain_name]\n",
    "```"
   ]
  },
  {
   "cell_type": "code",
   "execution_count": 6,
   "metadata": {},
   "outputs": [],
   "source": [
    "# initialising the agent\n",
    "agent = Agent(state_size=brain.vector_observation_space_size, action_size=np.prod(action_size),\n",
    "              num_agents=num_agents,lr=1e-3,batch_size=256)\n",
    "\n",
    "# dir for saving trained agents\n",
    "model_save_path='trained_models/'"
   ]
  },
  {
   "cell_type": "code",
   "execution_count": 7,
   "metadata": {},
   "outputs": [
    {
     "name": "stdout",
     "output_type": "stream",
     "text": [
      "using cuda:0\n"
     ]
    }
   ],
   "source": [
    "# check the device\n",
    "device = torch.device(\"cuda:0\" if torch.cuda.is_available() else \"cpu\")\n",
    "print (\"using\",device)"
   ]
  },
  {
   "cell_type": "markdown",
   "metadata": {},
   "source": [
    "Lets target a score of 10 for solving this environment\n",
    "`target_score=10`"
   ]
  },
  {
   "cell_type": "code",
   "execution_count": 8,
   "metadata": {},
   "outputs": [],
   "source": [
    "def action_space_decoding(encoded_action,action_size):\n",
    "    decoded_action = []\n",
    "    for dim in range(len(action_size)):\n",
    "        num_other_poss = np.prod(action_size[dim+1:])\n",
    "        decoded_action.append(encoded_action//num_other_poss)\n",
    "        encoded_action = encoded_action%num_other_poss\n",
    "    decoded_action = np.array(decoded_action)\n",
    "    assert np.all(decoded_action<=action_size-1)\n",
    "    return decoded_action\n",
    "\n",
    "# training function\n",
    "def dqn_train(max_episodes=1000,max_t=1000,target_score=10,eps_start=1.0,eps_end=1e-2,eps_decay=.995,PRINT_EVERY=100):\n",
    "    \"\"\"\n",
    "    trains the DQN agent\n",
    "\n",
    "    Params\n",
    "    ======\n",
    "    max_episodes : max number of episodes for training the agent\n",
    "    max_t : max number of timesteps for each episode to be used in training\n",
    "    eps_start : starting value of epsilon\n",
    "    eps_end : final value of epsilon\n",
    "    eps_decay : epsilon deacy rate\n",
    "\n",
    "    \"\"\"\n",
    "    eps = eps_start\n",
    "    \n",
    "    episode_rewards_window = deque(maxlen=100)\n",
    "    episode_rewards = []\n",
    "    online_rewards = np.zeros(num_agents)\n",
    "    \n",
    "    for episode_count in range(1,max_episodes+1):\n",
    "\n",
    "        # reset env state\n",
    "        env_info = env.reset(train_mode=True)[brain_name]\n",
    "        state = env_info.vector_observations\n",
    "        \n",
    "        for t in range(max_t):\n",
    "            \n",
    "            #print (episode_count,t,agent.memory.tree.n_entries)\n",
    "            # choose action using the local q-network\n",
    "            action = agent.act(state,eps)\n",
    "            \n",
    "            # decoding action\n",
    "            decoded_action = []\n",
    "            for i in range(num_agents):\n",
    "                decoded_action.append(action_space_decoding(action[i],action_size))\n",
    "            decoded_action = np.concatenate(decoded_action)\n",
    "            \n",
    "            # taking action in the env\n",
    "            env_info = env.step(vector_action=decoded_action)[brain_name]\n",
    "\n",
    "            # getting next_state,reward,done from the env\n",
    "            next_state = env_info.vector_observations\n",
    "            reward = np.array(env_info.rewards)\n",
    "            done = np.array(env_info.local_done)\n",
    "            \n",
    "            if np.max(reward) is np.nan:\n",
    "                print(\"prob\")\n",
    "            \n",
    "            # using agent to perform a learning step and save the sample in the memory\n",
    "            agent.step(state,action,reward,next_state,done)\n",
    "\n",
    "            # decay the epsilon value\n",
    "            eps = max(eps_decay*eps,eps_end)\n",
    "\n",
    "            # set current state = next_state\n",
    "            state = next_state\n",
    "            \n",
    "            online_rewards += reward\n",
    "            for i, terminal in enumerate(done):\n",
    "                if done[i]:\n",
    "                    episode_rewards.append(online_rewards[i])\n",
    "                    episode_rewards_window.append(online_rewards[i])\n",
    "                    online_rewards[i] = 0\n",
    "            \n",
    "            if np.any(done):\n",
    "                break\n",
    "                \n",
    "        print('\\rEpisode {}\\tAverage Score: {:.2f}'.format(episode_count, np.mean(episode_rewards_window)), end=\"\")\n",
    "        if episode_count % PRINT_EVERY == 0:\n",
    "            print('\\rEpisode {}\\tAverage Score: {:.2f}'.format(episode_count, np.mean(episode_rewards_window)))\n",
    "\n",
    "        if np.mean(episode_rewards_window) > target_score:\n",
    "            print('\\rLearning completed in {} episodes ... Avg_score :{}'.format(episode_count, np.mean(episode_rewards_window)))\n",
    "            torch.save(agent.qnet_local.state_dict(), model_save_path+'dqn_local.pth')\n",
    "            break\n",
    "\n",
    "    return episode_rewards"
   ]
  },
  {
   "cell_type": "code",
   "execution_count": 9,
   "metadata": {
    "scrolled": false
   },
   "outputs": [
    {
     "name": "stdout",
     "output_type": "stream",
     "text": [
      "Episode 10\tAverage Score: 1.34\n",
      "Learning completed in 19 episodes ... Avg_score :10.91\n"
     ]
    }
   ],
   "source": [
    "# train the dqn\n",
    "scores = dqn_train(max_episodes=1000,PRINT_EVERY=10)"
   ]
  },
  {
   "cell_type": "code",
   "execution_count": 12,
   "metadata": {},
   "outputs": [
    {
     "data": {
      "image/png": "[encoded data removed]",
      "text/plain": [
       "<Figure size 432x288 with 1 Axes>"
      ]
     },
     "metadata": {
      "image/png": {
       "height": 282,
       "width": 400
      },
      "needs_background": "light"
     },
     "output_type": "display_data"
    }
   ],
   "source": [
    "# plot the avg reward curve\n",
    "fig = plt.figure()\n",
    "plt.plot(scores)\n",
    "plt.xlabel('Episodes')\n",
    "plt.ylabel('Reward')\n",
    "plt.title('Reward Curve: Dueling Double DQN')\n",
    "plt.savefig('images/reward_curve-ddqn.png',dpi=300)\n",
    "plt.show()"
   ]
  },
  {
   "cell_type": "markdown",
   "metadata": {},
   "source": [
    "### 5. Watch the trained RL agent!"
   ]
  },
  {
   "cell_type": "code",
   "execution_count": null,
   "metadata": {},
   "outputs": [],
   "source": [
    "# # uncomment this cell to load trained agent weights\n",
    "# # initialising the agent\n",
    "# agent = Agent(state_size=brain.vector_observation_space_size, action_size=np.prod(action_size),num_agents=num_agents)\n",
    "# agent.qnet_local.load_state_dict(torch.load(model_save_path+'dqn_local.pth',map_location=device))"
   ]
  },
  {
   "cell_type": "code",
   "execution_count": 13,
   "metadata": {},
   "outputs": [
    {
     "name": "stdout",
     "output_type": "stream",
     "text": [
      "Avg reward for episode: 10.80\n"
     ]
    }
   ],
   "source": [
    "# lets visualise at how the trained agent performs\n",
    "\n",
    "# reset env state\n",
    "env_info = env.reset(train_mode=True)[brain_name]\n",
    "state = env_info.vector_observations\n",
    "\n",
    "online_rewards = np.zeros(num_agents)\n",
    "\n",
    "while True:\n",
    "    # choose action using the local q-network\n",
    "    action = agent.act(state,eps=0)\n",
    "\n",
    "    # decoding action\n",
    "    decoded_action = []\n",
    "    for i in range(num_agents):\n",
    "        decoded_action.append(action_space_decoding(action[i],action_size))\n",
    "    decoded_action = np.concatenate(decoded_action)\n",
    "\n",
    "    # taking action in the env\n",
    "    env_info = env.step(vector_action=decoded_action)[brain_name]\n",
    "\n",
    "    # getting next_state,reward,done from the env\n",
    "    next_state = env_info.vector_observations\n",
    "    reward = np.array(env_info.rewards)\n",
    "    done = np.array(env_info.local_done)\n",
    "    \n",
    "    if np.max(reward) is np.nan:\n",
    "        print (\"prob\")\n",
    "    \n",
    "    # set current state = next_state\n",
    "    state = next_state\n",
    "\n",
    "    online_rewards += reward\n",
    "\n",
    "    if np.any(done):\n",
    "        break\n",
    "        \n",
    "print (\"Avg reward for episode: {:.2f}\".format(np.mean(online_rewards)))"
   ]
  },
  {
   "cell_type": "code",
   "execution_count": 14,
   "metadata": {},
   "outputs": [],
   "source": [
    "# close the unity environment\n",
    "env.close()"
   ]
  },
  {
   "cell_type": "code",
   "execution_count": null,
   "metadata": {},
   "outputs": [],
   "source": []
  }
 ],
 "metadata": {
  "kernelspec": {
   "display_name": "reacher",
   "language": "python",
   "name": "reacher"
  },
  "language_info": {
   "codemirror_mode": {
    "name": "ipython",
    "version": 3
   },
   "file_extension": ".py",
   "mimetype": "text/x-python",
   "name": "python",
   "nbconvert_exporter": "python",
   "pygments_lexer": "ipython3",
   "version": "3.6.8"
  }
 },
 "nbformat": 4,
 "nbformat_minor": 2
}
